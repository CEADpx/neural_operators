{
 "cells": [
  {
   "cell_type": "markdown",
   "metadata": {},
   "source": [
    "## Test project and lift using numpy by creating a trivial orthogoal projector"
   ]
  },
  {
   "cell_type": "code",
   "execution_count": 8,
   "metadata": {},
   "outputs": [],
   "source": [
    "import numpy as np"
   ]
  },
  {
   "cell_type": "code",
   "execution_count": 9,
   "metadata": {},
   "outputs": [
    {
     "name": "stdout",
     "output_type": "stream",
     "text": [
      "A.shape: (4, 4)\n",
      "a\n",
      "[[0]\n",
      " [1]\n",
      " [2]\n",
      " [3]]\n",
      "[[4]\n",
      " [5]\n",
      " [6]\n",
      " [7]]\n",
      "[[ 8]\n",
      " [ 9]\n",
      " [10]\n",
      " [11]]\n",
      "\n",
      "A\n",
      "[0 1 2 3]\n",
      "[4 5 6 7]\n",
      "[ 8  9 10 11]\n",
      "[12 13 14 15]\n",
      "\n",
      "A\n",
      "[ 0.         -0.83666003  0.54251529  0.07534696]\n",
      "[-0.26726124 -0.47809144 -0.77951402  0.3039044 ]\n",
      "[-0.53452248 -0.11952286 -0.06851781 -0.83384969]\n",
      "[-0.80178373  0.23904572  0.30551655  0.45459833]\n",
      "\n",
      "Projector A.shape:  (2, 4)\n",
      "[ 0.         -0.26726124 -0.53452248 -0.80178373]\n",
      "[-0.83666003 -0.47809144 -0.11952286  0.23904572]\n"
     ]
    }
   ],
   "source": [
    "## define projector\n",
    "data_dim = 4\n",
    "num_data = 3\n",
    "red_dim = 2\n",
    "\n",
    "A = np.arange(0, data_dim * data_dim, 1).reshape(data_dim, data_dim) \n",
    "\n",
    "print('A.shape: {}'.format(A.shape))\n",
    "print('a')\n",
    "for i in range(a.shape[0]):\n",
    "    print(a[i])\n",
    "\n",
    "print('\\nA')\n",
    "for i in range(A.shape[0]):\n",
    "    print(A[i,:])\n",
    "\n",
    "# orthogonalize A\n",
    "A, _ = np.linalg.qr(A.T)\n",
    "\n",
    "print('\\nA')\n",
    "for i in range(A.shape[0]):\n",
    "    print(A[i,:])\n",
    "\n",
    "# create a projector from A (reduced dimension is 2)\n",
    "A = A[:, :red_dim].T\n",
    "\n",
    "print('\\nProjector A.shape: ', A.shape)\n",
    "for i in range(A.shape[0]):\n",
    "    print(A[i,:])"
   ]
  },
  {
   "cell_type": "code",
   "execution_count": 10,
   "metadata": {},
   "outputs": [
    {
     "name": "stdout",
     "output_type": "stream",
     "text": [
      "a.shape: (3, 4)\n",
      "\n",
      "Project test\n",
      "\n",
      "a1_proj.shape: (2,)\n",
      "-3.7416573867739413\n",
      "-5.551115123125783e-16\n",
      "\n",
      "a2_proj.shape: (2,)\n",
      "-10.155927192672127\n",
      "-4.780914437337577\n",
      "\n",
      "a3_proj.shape: (2,)\n",
      "-16.57019699857031\n",
      "-9.561828874675154\n",
      "\n",
      "\n",
      "a_batch_proj.shape: (3, 2)\n",
      "[-3.74165739e+00 -5.55111512e-16]\n",
      "[-10.15592719  -4.78091444]\n",
      "[-16.570197    -9.56182887]\n"
     ]
    }
   ],
   "source": [
    "a = np.arange(0, data_dim*num_data, 1).reshape(num_data, data_dim)\n",
    "print('a.shape: {}'.format(a.shape))\n",
    "\n",
    "# project (both methods work)\n",
    "print('\\nProject test')\n",
    "for i in range(a.shape[0]):\n",
    "    # a1_proj = np.dot(A, a[i,:]) \n",
    "    a1_proj = np.dot(a[i,:], A.T) \n",
    "    print('\\na{}_proj.shape: {}'.format(i+1, a1_proj.shape))\n",
    "    for j in range(a1_proj.shape[0]):\n",
    "        print(a1_proj[j])\n",
    "\n",
    "# a_batch_proj = np.dot(A, a.T).T \n",
    "a_batch_proj = np.dot(a, A.T) \n",
    "print('\\n\\na_batch_proj.shape: {}'.format(a_batch_proj.shape))\n",
    "for i in range(a_batch_proj.shape[0]):\n",
    "    print(a_batch_proj[i,:])"
   ]
  },
  {
   "cell_type": "code",
   "execution_count": null,
   "metadata": {},
   "outputs": [
    {
     "name": "stdout",
     "output_type": "stream",
     "text": [
      "Lift test\n",
      "\n",
      "b1_lift.shape: (4,)\n",
      "4.644396126208126e-16\n",
      "1.0000000000000002\n",
      "2.0\n",
      "3.0\n",
      "\n",
      "b2_lift.shape: (4,)\n",
      "4.0000000000000036\n",
      "5.000000000000002\n",
      "6.000000000000002\n",
      "7.000000000000001\n",
      "\n",
      "b3_lift.shape: (4,)\n",
      "8.000000000000007\n",
      "9.000000000000004\n",
      "10.000000000000004\n",
      "11.000000000000002\n",
      "\n",
      "\n",
      "b_batch_lift.shape: (3, 4)\n",
      "[4.64439613e-16 1.00000000e+00 2.00000000e+00 3.00000000e+00]\n",
      "[4. 5. 6. 7.]\n",
      "[ 8.  9. 10. 11.]\n"
     ]
    }
   ],
   "source": [
    "# lift (both methods work)\n",
    "print('Lift test')\n",
    "b = a_batch_proj # data in reduced dimension\n",
    "\n",
    "for i in range(b.shape[0]):\n",
    "    # b1_lift = np.dot(A.T, b[i,:]) \n",
    "    b1_lift = np.dot(b[i,:], A)\n",
    "    print('\\nb{}_lift.shape: {}'.format(i+1, b1_lift.shape))\n",
    "    for j in range(b1_lift.shape[0]):\n",
    "        print(b1_lift[j])\n",
    "\n",
    "# b_batch_lift = np.dot(A.T, b.T).T \n",
    "b_batch_lift = np.dot(b, A)\n",
    "print('\\n\\nb_batch_lift.shape: {}'.format(b_batch_lift.shape))\n",
    "for i in range(b_batch_lift.shape[0]):\n",
    "    print(b_batch_lift[i,:])"
   ]
  },
  {
   "cell_type": "code",
   "execution_count": 12,
   "metadata": {},
   "outputs": [
    {
     "name": "stdout",
     "output_type": "stream",
     "text": [
      "x.shape: (4,)\n",
      "x_proj.shape: (2,)\n"
     ]
    }
   ],
   "source": [
    "x = a[i, :]\n",
    "print('x.shape: {}'.format(x.shape))\n",
    "\n",
    "x_proj = np.dot(x, A.T)\n",
    "print('x_proj.shape: {}'.format(x_proj.shape))"
   ]
  },
  {
   "cell_type": "markdown",
   "metadata": {},
   "source": [
    "## Testing projectors with data with additional dimensions"
   ]
  },
  {
   "cell_type": "markdown",
   "metadata": {},
   "source": [
    "### Adding additional dimension at the end"
   ]
  },
  {
   "cell_type": "code",
   "execution_count": 24,
   "metadata": {},
   "outputs": [
    {
     "name": "stdout",
     "output_type": "stream",
     "text": [
      "a.shape: (3, 4, 1)\n",
      "\n",
      "Project and lift test\n",
      "\n",
      "a[0].shape = (4, 1), a[0] = [0 1 2 3]\n",
      "\n",
      "a1_proj.shape = (2, 1), a1_proj = [-3.74165739e+00 -5.55111512e-16]\n",
      "\n",
      "a1_lift.shape = (4, 1), a1_lift = [4.64439613e-16 1.00000000e+00 2.00000000e+00 3.00000000e+00]\n",
      "\n",
      "a[1].shape = (4, 1), a[1] = [4 5 6 7]\n",
      "\n",
      "a1_proj.shape = (2, 1), a1_proj = [-10.15592719  -4.78091444]\n",
      "\n",
      "a1_lift.shape = (4, 1), a1_lift = [4. 5. 6. 7.]\n",
      "\n",
      "a[2].shape = (4, 1), a[2] = [ 8  9 10 11]\n",
      "\n",
      "a1_proj.shape = (2, 1), a1_proj = [-16.570197    -9.56182887]\n",
      "\n",
      "a1_lift.shape = (4, 1), a1_lift = [ 8.  9. 10. 11.]\n",
      "\n",
      "\n",
      "a_batch_proj.shape: (3, 2, 1)\n",
      "a_batch_proj[0].shape = (2, 1), a_batch_proj[0] = [-3.74165739e+00 -5.55111512e-16]\n",
      "a_batch_proj[1].shape = (2, 1), a_batch_proj[1] = [-10.15592719  -4.78091444]\n",
      "a_batch_proj[2].shape = (2, 1), a_batch_proj[2] = [-16.570197    -9.56182887]\n",
      "\n",
      "\n",
      "b_batch_lift.shape: (3, 4, 1)\n",
      "b_batch_lift[0].shape = (4, 1), b_batch_lift[0] = [4.64439613e-16 1.00000000e+00 2.00000000e+00 3.00000000e+00]\n",
      "b_batch_lift[1].shape = (4, 1), b_batch_lift[1] = [4. 5. 6. 7.]\n",
      "b_batch_lift[2].shape = (4, 1), b_batch_lift[2] = [ 8.  9. 10. 11.]\n"
     ]
    }
   ],
   "source": [
    "a = np.arange(0, data_dim*num_data, 1).reshape(num_data, data_dim, 1)\n",
    "print('a.shape: {}'.format(a.shape))\n",
    "\n",
    "# project \n",
    "print('\\nProject and lift test')\n",
    "for i in range(a.shape[0]):\n",
    "    print('\\na[{}].shape = {}, a[{}] = {}'.format(i, a[i].shape, i, a[i].flatten()))\n",
    "    \n",
    "    # project\n",
    "    a1_proj = np.dot(A, a[i])\n",
    "    print('\\na1_proj.shape = {}, a1_proj = {}'.format(a1_proj.shape, a1_proj.flatten()))\n",
    "\n",
    "    # lift\n",
    "    a1_lift = np.dot(A.T, a1_proj)\n",
    "    print('\\na1_lift.shape = {}, a1_lift = {}'.format(a1_lift.shape, a1_lift.flatten()))\n",
    "\n",
    "# batch projectb_batch_lift = np.dot(b, A)\n",
    "a_batch_proj = np.dot(A, a.T).T\n",
    "a_batch_proj = a_batch_proj.reshape(-1, red_dim, 1)\n",
    "print('\\n\\na_batch_proj.shape: {}'.format(a_batch_proj.shape))\n",
    "\n",
    "for i in range(a_batch_proj.shape[0]):\n",
    "    print('a_batch_proj[{}].shape = {}, a_batch_proj[{}] = {}'.format(i, a_batch_proj[i].shape, i, a_batch_proj[i].flatten()))\n",
    "\n",
    "\n",
    "# batch lift\n",
    "b_batch_lift = np.dot(A.T, a_batch_proj)\n",
    "b_batch_lift = b_batch_lift[:, :, 0].T\n",
    "b_batch_lift = b_batch_lift.reshape(-1, data_dim, 1)\n",
    "# b_batch_lift = np.dot(a_batch_proj, A)\n",
    "print('\\n\\nb_batch_lift.shape: {}'.format(b_batch_lift.shape))\n",
    "for i in range(b_batch_lift.shape[0]):\n",
    "    print('b_batch_lift[{}].shape = {}, b_batch_lift[{}] = {}'.format(i, b_batch_lift[i].shape, i, b_batch_lift[i].flatten()))"
   ]
  },
  {
   "cell_type": "code",
   "execution_count": 23,
   "metadata": {},
   "outputs": [
    {
     "name": "stdout",
     "output_type": "stream",
     "text": [
      "a.shape: (3, 4, 1)\n",
      "\n",
      "Project and lift test\n",
      "\n",
      "a[0].shape = (4, 1), a[0] = [0 1 2 3]\n",
      "\n",
      "a1_proj.shape = (2, 1), a1_proj = [-3.74165739e+00 -5.55111512e-16]\n",
      "\n",
      "a1_lift.shape = (4, 1), a1_lift = [4.64439613e-16 1.00000000e+00 2.00000000e+00 3.00000000e+00]\n",
      "\n",
      "a[1].shape = (4, 1), a[1] = [4 5 6 7]\n",
      "\n",
      "a1_proj.shape = (2, 1), a1_proj = [-10.15592719  -4.78091444]\n",
      "\n",
      "a1_lift.shape = (4, 1), a1_lift = [4. 5. 6. 7.]\n",
      "\n",
      "a[2].shape = (4, 1), a[2] = [ 8  9 10 11]\n",
      "\n",
      "a1_proj.shape = (2, 1), a1_proj = [-16.570197    -9.56182887]\n",
      "\n",
      "a1_lift.shape = (4, 1), a1_lift = [ 8.  9. 10. 11.]\n",
      "\n",
      "\n",
      "a_batch_proj.shape: (3, 2, 1)\n",
      "a_batch_proj[0].shape = (2, 1), a_batch_proj[0] = [-3.74165739e+00 -5.55111512e-16]\n",
      "a_batch_proj[1].shape = (2, 1), a_batch_proj[1] = [-10.15592719  -4.78091444]\n",
      "a_batch_proj[2].shape = (2, 1), a_batch_proj[2] = [-16.570197    -9.56182887]\n",
      "\n",
      "\n",
      "b_batch_lift.shape: (3, 4, 1)\n",
      "b_batch_lift[0].shape = (4, 1), b_batch_lift[0] = [4.64439613e-16 1.00000000e+00 2.00000000e+00 3.00000000e+00]\n",
      "b_batch_lift[1].shape = (4, 1), b_batch_lift[1] = [4. 5. 6. 7.]\n",
      "b_batch_lift[2].shape = (4, 1), b_batch_lift[2] = [ 8.  9. 10. 11.]\n"
     ]
    }
   ],
   "source": [
    "## can project and lift on object with less dimension using usual method\n",
    "a = np.arange(0, data_dim*num_data, 1).reshape(num_data, data_dim, 1)\n",
    "print('a.shape: {}'.format(a.shape))\n",
    "\n",
    "# project \n",
    "print('\\nProject and lift test')\n",
    "for i in range(a.shape[0]):\n",
    "    print('\\na[{}].shape = {}, a[{}] = {}'.format(i, a[i].shape, i, a[i].flatten()))\n",
    "    \n",
    "    # project\n",
    "    a1_proj = np.dot(a[i,:, 0], A.T)\n",
    "    a1_proj = a1_proj.reshape(red_dim, 1)\n",
    "    print('\\na1_proj.shape = {}, a1_proj = {}'.format(a1_proj.shape, a1_proj.flatten()))\n",
    "\n",
    "    # lift\n",
    "    a1_lift = np.dot(a1_proj[:,0], A)\n",
    "    a1_lift = a1_lift.reshape(data_dim, 1)\n",
    "    print('\\na1_lift.shape = {}, a1_lift = {}'.format(a1_lift.shape, a1_lift.flatten()))\n",
    "\n",
    "# batch projectb_batch_lift = np.dot(b, A)\n",
    "a_batch_proj = np.dot(a[:, :, 0], A.T)\n",
    "a_batch_proj = a_batch_proj.reshape(a_batch_proj.shape[0], a_batch_proj.shape[1], 1)\n",
    "print('\\n\\na_batch_proj.shape: {}'.format(a_batch_proj.shape))\n",
    "\n",
    "for i in range(a_batch_proj.shape[0]):\n",
    "    print('a_batch_proj[{}].shape = {}, a_batch_proj[{}] = {}'.format(i, a_batch_proj[i].shape, i, a_batch_proj[i].flatten()))\n",
    "\n",
    "\n",
    "# batch lift\n",
    "b_batch_lift = np.dot(a_batch_proj[:, :, 0], A)\n",
    "b_batch_lift = b_batch_lift.reshape(b_batch_lift.shape[0], b_batch_lift.shape[1], 1)\n",
    "# b_batch_lift = np.dot(a_batch_proj, A)\n",
    "print('\\n\\nb_batch_lift.shape: {}'.format(b_batch_lift.shape))\n",
    "for i in range(b_batch_lift.shape[0]):\n",
    "    print('b_batch_lift[{}].shape = {}, b_batch_lift[{}] = {}'.format(i, b_batch_lift[i].shape, i, b_batch_lift[i].flatten()))"
   ]
  },
  {
   "cell_type": "markdown",
   "metadata": {},
   "source": [
    "### Adding additional dimension at second last position"
   ]
  },
  {
   "cell_type": "code",
   "execution_count": 25,
   "metadata": {},
   "outputs": [
    {
     "name": "stdout",
     "output_type": "stream",
     "text": [
      "a.shape: (3, 1, 4)\n",
      "\n",
      "Project and lift test\n",
      "\n",
      "a[0].shape = (1, 4), a[0] = [0 1 2 3]\n",
      "\n",
      "a1_proj.shape = (1, 2), a1_proj = [-3.74165739e+00 -5.55111512e-16]\n",
      "\n",
      "a1_lift.shape = (1, 4), a1_lift = [4.64439613e-16 1.00000000e+00 2.00000000e+00 3.00000000e+00]\n",
      "\n",
      "a[1].shape = (1, 4), a[1] = [4 5 6 7]\n",
      "\n",
      "a1_proj.shape = (1, 2), a1_proj = [-10.15592719  -4.78091444]\n",
      "\n",
      "a1_lift.shape = (1, 4), a1_lift = [4. 5. 6. 7.]\n",
      "\n",
      "a[2].shape = (1, 4), a[2] = [ 8  9 10 11]\n",
      "\n",
      "a1_proj.shape = (1, 2), a1_proj = [-16.570197    -9.56182887]\n",
      "\n",
      "a1_lift.shape = (1, 4), a1_lift = [ 8.  9. 10. 11.]\n",
      "\n",
      "\n",
      "a_batch_proj.shape: (3, 1, 2)\n",
      "a_batch_proj[0].shape = (1, 2), a_batch_proj[0] = [-3.74165739e+00 -5.55111512e-16]\n",
      "a_batch_proj[1].shape = (1, 2), a_batch_proj[1] = [-10.15592719  -4.78091444]\n",
      "a_batch_proj[2].shape = (1, 2), a_batch_proj[2] = [-16.570197    -9.56182887]\n",
      "\n",
      "\n",
      "b_batch_lift.shape: (3, 1, 4)\n",
      "b_batch_lift[0].shape = (1, 4), b_batch_lift[0] = [4.64439613e-16 1.00000000e+00 2.00000000e+00 3.00000000e+00]\n",
      "b_batch_lift[1].shape = (1, 4), b_batch_lift[1] = [4. 5. 6. 7.]\n",
      "b_batch_lift[2].shape = (1, 4), b_batch_lift[2] = [ 8.  9. 10. 11.]\n"
     ]
    }
   ],
   "source": [
    "a = np.arange(0, data_dim*num_data, 1).reshape(num_data, 1, data_dim)\n",
    "print('a.shape: {}'.format(a.shape))\n",
    "\n",
    "## can project and lift on object with less dimension using usual method\n",
    "\n",
    "# project \n",
    "print('\\nProject and lift test')\n",
    "for i in range(a.shape[0]):\n",
    "    print('\\na[{}].shape = {}, a[{}] = {}'.format(i, a[i].shape, i, a[i].flatten()))\n",
    "    \n",
    "    # project\n",
    "    a1_proj = np.dot(a[i, 0, :], A.T)\n",
    "    a1_proj = a1_proj.reshape(1, red_dim)\n",
    "    print('\\na1_proj.shape = {}, a1_proj = {}'.format(a1_proj.shape, a1_proj.flatten()))\n",
    "\n",
    "    # lift\n",
    "    a1_lift = np.dot(a1_proj[0, :], A)\n",
    "    a1_lift = a1_lift.reshape(1, data_dim)\n",
    "    print('\\na1_lift.shape = {}, a1_lift = {}'.format(a1_lift.shape, a1_lift.flatten()))\n",
    "\n",
    "# batch projectb_batch_lift = np.dot(b, A)\n",
    "a_batch_proj = np.dot(a[:, 0, :], A.T)\n",
    "a_batch_proj = a_batch_proj.reshape(a_batch_proj.shape[0], 1, a_batch_proj.shape[1])\n",
    "print('\\n\\na_batch_proj.shape: {}'.format(a_batch_proj.shape))\n",
    "\n",
    "for i in range(a_batch_proj.shape[0]):\n",
    "    print('a_batch_proj[{}].shape = {}, a_batch_proj[{}] = {}'.format(i, a_batch_proj[i].shape, i, a_batch_proj[i].flatten()))\n",
    "\n",
    "\n",
    "# batch lift\n",
    "b_batch_lift = np.dot(a_batch_proj[:, 0, :], A)\n",
    "b_batch_lift = b_batch_lift.reshape(b_batch_lift.shape[0], 1, b_batch_lift.shape[1])\n",
    "# b_batch_lift = np.dot(a_batch_proj, A)\n",
    "print('\\n\\nb_batch_lift.shape: {}'.format(b_batch_lift.shape))\n",
    "for i in range(b_batch_lift.shape[0]):\n",
    "    print('b_batch_lift[{}].shape = {}, b_batch_lift[{}] = {}'.format(i, b_batch_lift[i].shape, i, b_batch_lift[i].flatten()))"
   ]
  },
  {
   "cell_type": "code",
   "execution_count": null,
   "metadata": {},
   "outputs": [],
   "source": []
  }
 ],
 "metadata": {
  "kernelspec": {
   "display_name": "neuralop",
   "language": "python",
   "name": "python3"
  },
  "language_info": {
   "codemirror_mode": {
    "name": "ipython",
    "version": 3
   },
   "file_extension": ".py",
   "mimetype": "text/x-python",
   "name": "python",
   "nbconvert_exporter": "python",
   "pygments_lexer": "ipython3",
   "version": "3.11.10"
  }
 },
 "nbformat": 4,
 "nbformat_minor": 2
}
